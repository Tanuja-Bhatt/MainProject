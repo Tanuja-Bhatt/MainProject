{
 "cells": [
  {
   "cell_type": "code",
   "execution_count": 2,
   "id": "1bcd866d",
   "metadata": {},
   "outputs": [],
   "source": [
    "# Importing necessary libraries\n",
    "\n",
    "import numpy as np\n",
    "\n",
    "# PyTorch\n",
    "import torch\n",
    "import torch.nn as nn\n",
    "import torch.optim as optim\n",
    "from torchvision import models, datasets, transforms\n",
    "from torch.utils.data import DataLoader, random_split\n",
    "from torch.cuda.amp import autocast, GradScaler\n",
    "from torch.optim.lr_scheduler import ReduceLROnPlateau\n",
    "\n",
    "# Visualization\n",
    "import matplotlib.pyplot as plt\n",
    "import seaborn as sns\n",
    "from sklearn.metrics import confusion_matrix\n",
    "\n",
    "# Suppressing warnings\n",
    "import warnings\n",
    "warnings.filterwarnings('ignore')"
   ]
  },
  {
   "cell_type": "markdown",
   "id": "4b4abf9c",
   "metadata": {},
   "source": [
    "GPU Availability"
   ]
  },
  {
   "cell_type": "code",
   "execution_count": 3,
   "id": "bfb31444",
   "metadata": {},
   "outputs": [
    {
     "name": "stdout",
     "output_type": "stream",
     "text": [
      "Using device : cpu\n"
     ]
    }
   ],
   "source": [
    "device = torch.device('cuda' if torch.cuda.is_available() else 'cpu')\n",
    "print(f'Using device : {device}')"
   ]
  },
  {
   "cell_type": "markdown",
   "id": "f8093058",
   "metadata": {},
   "source": [
    "Data Augmentation"
   ]
  },
  {
   "cell_type": "code",
   "execution_count": 4,
   "id": "41447271",
   "metadata": {},
   "outputs": [],
   "source": [
    "imgSize = 224\n",
    "\n",
    "transformer = transforms.Compose([\n",
    "    transforms.RandomRotation(degrees = 20),\n",
    "    \n",
    "    transforms.Resize(size = (imgSize, imgSize), antialias = True),\n",
    "    transforms.CenterCrop(size = (imgSize, imgSize)),\n",
    "    \n",
    "    transforms.ToTensor(),\n",
    "    transforms.Normalize(mean = [0.485, 0.456, 0.406], std = [0.229, 0.224, 0.225])\n",
    "])"
   ]
  },
  {
   "cell_type": "markdown",
   "id": "e43882d3",
   "metadata": {},
   "source": [
    "Loading Dataset"
   ]
  },
  {
   "cell_type": "code",
   "execution_count": null,
   "id": "47abf224",
   "metadata": {},
   "outputs": [],
   "source": [
    "path = '/kaggle/input/skin-cancer-malignant-vs-benign/train'\n",
    "valPath = '/kaggle/input/skin-cancer-malignant-vs-benign/test'\n",
    "\n",
    "trainData = datasets.ImageFolder(root = path, transform = transformer)\n",
    "valData = datasets.ImageFolder(root = valPath, transform = transformer)"
   ]
  },
  {
   "cell_type": "code",
   "execution_count": null,
   "id": "31e0e519",
   "metadata": {},
   "outputs": [],
   "source": [
    "# Data loaders\n",
    "batchSize = 256\n",
    "\n",
    "trainLoader = DataLoader(trainData, batch_size = batchSize, shuffle = True, num_workers = 4)\n",
    "valLoader = DataLoader(valData, batch_size = batchSize, shuffle = False, num_workers = 4)"
   ]
  },
  {
   "cell_type": "markdown",
   "id": "6ecd6ab7",
   "metadata": {},
   "source": [
    "Defining Model"
   ]
  },
  {
   "cell_type": "code",
   "execution_count": null,
   "id": "09901b59",
   "metadata": {},
   "outputs": [],
   "source": [
    "model = models.regnet_y_16gf(weights = 'DEFAULT')\n",
    "model.fc = nn.Linear(model.fc.in_features, 1)\n",
    "\n",
    "# Freezing all layers\n",
    "# for param in model.parameters():\n",
    "#     param.requires_grad = False\n",
    "\n",
    "# Unfreezing the final classifier layer\n",
    "# for param in model.fc.parameters():\n",
    "#     param.requires_grad = True"
   ]
  },
  {
   "cell_type": "markdown",
   "id": "2f2f8502",
   "metadata": {},
   "source": [
    "Data Parallelism"
   ]
  },
  {
   "cell_type": "code",
   "execution_count": null,
   "id": "7708d061",
   "metadata": {},
   "outputs": [],
   "source": [
    "model = nn.DataParallel(model).to(device)"
   ]
  },
  {
   "cell_type": "code",
   "execution_count": null,
   "id": "acd88eb3",
   "metadata": {},
   "outputs": [],
   "source": [
    "# Defining the loss, optimizer, and scheduler\n",
    "criterion = nn.BCEWithLogitsLoss()\n",
    "optimizer = optim.Adam(model.parameters(), lr = 0.001)\n",
    "scheduler = ReduceLROnPlateau(optimizer, mode = 'min', factor = 0.1, patience = 3, min_lr = 1e-5, verbose = True)"
   ]
  },
  {
   "cell_type": "markdown",
   "id": "9979e461",
   "metadata": {},
   "source": [
    "Early Stopping"
   ]
  },
  {
   "cell_type": "code",
   "execution_count": null,
   "id": "86e9eab7",
   "metadata": {},
   "outputs": [],
   "source": [
    "patience = 5\n",
    "minDelta = 0.01\n",
    "currentPatience = 0\n",
    "bestLoss = float('inf')"
   ]
  },
  {
   "cell_type": "markdown",
   "id": "4a94b274",
   "metadata": {},
   "source": [
    "Training Model"
   ]
  },
  {
   "cell_type": "code",
   "execution_count": null,
   "id": "0d86edbc",
   "metadata": {},
   "outputs": [],
   "source": [
    "# Gradient scaler for mixed-precision training\n",
    "scaler = GradScaler()\n",
    "\n",
    "# Lists to store training and validation metrics\n",
    "trainLosses = []\n",
    "valLosses = []\n",
    "valAccs = []\n",
    "\n",
    "# Training loop\n",
    "epochs = 30\n",
    "\n",
    "for epoch in range(epochs):\n",
    "    # Training phase\n",
    "    model.train()\n",
    "    runningLoss = 0.0\n",
    "\n",
    "    for inputs, labels in trainLoader:\n",
    "        inputs, labels = inputs.to(device), labels.to(device)\n",
    "        labels = labels.unsqueeze(1).float()\n",
    "\n",
    "        optimizer.zero_grad()\n",
    "\n",
    "        with autocast():\n",
    "            outputs = model(inputs)\n",
    "            loss = criterion(outputs, labels)\n",
    "\n",
    "        scaler.scale(loss).backward()\n",
    "        scaler.step(optimizer)\n",
    "        scaler.update()\n",
    "\n",
    "        runningLoss += loss.item()\n",
    "\n",
    "    trainLoss = runningLoss / len(trainLoader)\n",
    "    print(f'Epoch {epoch + 1}/{epochs} - Training Loss : {trainLoss:.2f}')\n",
    "    trainLosses.append(trainLoss)\n",
    "\n",
    "    # Validation phase\n",
    "    model.eval()\n",
    "    with torch.no_grad():\n",
    "        valLoss = 0.0\n",
    "        correct = total = 0\n",
    "\n",
    "        for inputs, labels in valLoader:\n",
    "            inputs, labels = inputs.to(device), labels.to(device)\n",
    "            labels = labels.unsqueeze(1).float()\n",
    "\n",
    "            outputs = model(inputs)\n",
    "            loss = criterion(outputs, labels)\n",
    "            valLoss += loss.item()\n",
    "\n",
    "            predicted = (torch.sigmoid(outputs) > 0.5).float()\n",
    "            total += labels.size(0)\n",
    "            correct += (predicted == labels).sum().item()\n",
    "\n",
    "        avgLoss = valLoss / len(valLoader)\n",
    "        accuracy = correct / total * 100\n",
    "\n",
    "        print(f'Validation Loss : {avgLoss:.2f} Validation Accuracy : {accuracy:.2f}\\n')\n",
    "        valLosses.append(avgLoss)\n",
    "        valAccs.append(accuracy)\n",
    "\n",
    "        # Early stopping\n",
    "        if avgLoss < bestLoss - minDelta:\n",
    "            bestLoss = avgLoss\n",
    "            currentPatience = 0\n",
    "        else:\n",
    "            currentPatience += 1\n",
    "            if currentPatience >= patience:\n",
    "                print('Early stopping triggered.')\n",
    "                break\n",
    "\n",
    "        scheduler.step(avgLoss)"
   ]
  },
  {
   "cell_type": "code",
   "execution_count": null,
   "id": "c3747d8e",
   "metadata": {},
   "outputs": [],
   "source": [
    "# Plotting training and validation metrics\n",
    "plt.figure(figsize = (10, 5))\n",
    "\n",
    "plt.subplot(1, 2, 1)\n",
    "plt.plot(trainLosses, label = 'Training Loss')\n",
    "plt.plot(valLosses, label = 'Validation Loss')\n",
    "plt.xlabel('Epoch')\n",
    "plt.ylabel('Loss')\n",
    "plt.legend()\n",
    "\n",
    "plt.subplot(1, 2, 2)\n",
    "plt.plot(valAccs, label = 'Validation Accuracy')\n",
    "plt.xlabel('Epoch')\n",
    "plt.ylabel('Accuracy (%)')\n",
    "plt.legend()\n",
    "\n",
    "plt.show()"
   ]
  },
  {
   "cell_type": "code",
   "execution_count": null,
   "id": "d61af89a",
   "metadata": {},
   "outputs": [],
   "source": [
    "# Plotting confusion matrix for validation data\n",
    "model.eval()\n",
    "allLabels = []\n",
    "allPreds = []\n",
    "\n",
    "with torch.no_grad():\n",
    "    for inputs, labels in valLoader:\n",
    "        inputs, labels = inputs.to(device), labels.to(device)\n",
    "        labels = labels.unsqueeze(1).float()\n",
    "\n",
    "        outputs = model(inputs)\n",
    "        predictions = (torch.sigmoid(outputs) > 0.5).float()\n",
    "\n",
    "        allLabels.extend(labels.cpu().numpy())\n",
    "        allPreds.extend(predictions.cpu().numpy())\n",
    "\n",
    "allLabels = np.array(allLabels)\n",
    "allPreds = np.array(allPreds)\n",
    "\n",
    "matrix = confusion_matrix(allLabels, allPreds)\n",
    "\n",
    "sns.heatmap(matrix, annot = True, fmt = 'd', cmap = 'Greens', xticklabels = valData.classes, yticklabels = valData.classes, cbar = False)\n",
    "plt.title('Confusion Matrix - Validation Set', fontsize = 16)\n",
    "plt.xlabel('Predicted Label', fontsize = 14)\n",
    "plt.ylabel('True Label', fontsize = 14)\n",
    "plt.show()"
   ]
  },
  {
   "cell_type": "code",
   "execution_count": null,
   "id": "4aa18768",
   "metadata": {},
   "outputs": [],
   "source": []
  },
  {
   "cell_type": "code",
   "execution_count": null,
   "id": "e26c4a58",
   "metadata": {},
   "outputs": [],
   "source": []
  },
  {
   "cell_type": "code",
   "execution_count": null,
   "id": "c23e41a1",
   "metadata": {},
   "outputs": [],
   "source": []
  },
  {
   "cell_type": "code",
   "execution_count": null,
   "id": "545fbc32",
   "metadata": {},
   "outputs": [],
   "source": []
  },
  {
   "cell_type": "code",
   "execution_count": null,
   "id": "70f9ec2f",
   "metadata": {},
   "outputs": [],
   "source": []
  }
 ],
 "metadata": {
  "kernelspec": {
   "display_name": "Python 3",
   "language": "python",
   "name": "python3"
  },
  "language_info": {
   "codemirror_mode": {
    "name": "ipython",
    "version": 3
   },
   "file_extension": ".py",
   "mimetype": "text/x-python",
   "name": "python",
   "nbconvert_exporter": "python",
   "pygments_lexer": "ipython3",
   "version": "3.12.3"
  }
 },
 "nbformat": 4,
 "nbformat_minor": 5
}
